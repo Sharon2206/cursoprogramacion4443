{
  "nbformat": 4,
  "nbformat_minor": 0,
  "metadata": {
    "colab": {
      "provenance": []
    },
    "kernelspec": {
      "name": "python3",
      "display_name": "Python 3"
    },
    "language_info": {
      "name": "python"
    }
  },
  "cells": [
    {
      "cell_type": "markdown",
      "source": [
        "## **INICIANDO CON PYTHON**"
      ],
      "metadata": {
        "id": "23XdnkWJCXcH"
      }
    },
    {
      "cell_type": "code",
      "source": [
        "No_identificacion = input(\"Digite su número de identificación\")\n",
        "print(No_identificacion)"
      ],
      "metadata": {
        "colab": {
          "base_uri": "https://localhost:8080/"
        },
        "id": "nKp_8LuUKr6e",
        "outputId": "c5c3fac9-0493-4e39-9fd7-54da55827892"
      },
      "execution_count": null,
      "outputs": [
        {
          "output_type": "stream",
          "name": "stdout",
          "text": [
            "Digite su número de identificación1234567\n",
            "1234567\n"
          ]
        }
      ]
    },
    {
      "cell_type": "code",
      "source": [
        "Nombres = \"Cristian Camilo\"\n",
        "Apellidos = \"Gomez Bernal\"\n",
        "print(Nombres + \" \" + Apellidos)"
      ],
      "metadata": {
        "colab": {
          "base_uri": "https://localhost:8080/"
        },
        "id": "TYlRqYa3Cilb",
        "outputId": "031c02d9-8090-44c4-8ebf-e48a8207f0dd"
      },
      "execution_count": null,
      "outputs": [
        {
          "output_type": "stream",
          "name": "stdout",
          "text": [
            "Cristian Camilo Gomez Bernal\n"
          ]
        }
      ]
    },
    {
      "cell_type": "code",
      "source": [
        "direccion = \"Calle 90 # 82P - 27\"\n",
        "print(direccion)"
      ],
      "metadata": {
        "colab": {
          "base_uri": "https://localhost:8080/"
        },
        "id": "Ox-J19tHRR09",
        "outputId": "82d3edfe-1f3a-4445-a982-3fa0c8b8e472"
      },
      "execution_count": null,
      "outputs": [
        {
          "output_type": "stream",
          "name": "stdout",
          "text": [
            "Calle 90 # 82P - 27\n"
          ]
        }
      ]
    },
    {
      "cell_type": "code",
      "source": [
        "Telefono = 1234567\n",
        "print(Telefono)"
      ],
      "metadata": {
        "colab": {
          "base_uri": "https://localhost:8080/"
        },
        "id": "YdeevXhcorQr",
        "outputId": "035d92f8-1b62-42b2-b986-55ad612f718a"
      },
      "execution_count": null,
      "outputs": [
        {
          "output_type": "stream",
          "name": "stdout",
          "text": [
            "1234567\n"
          ]
        }
      ]
    },
    {
      "cell_type": "code",
      "source": [
        "Edad = 20\n",
        "print(Edad)"
      ],
      "metadata": {
        "colab": {
          "base_uri": "https://localhost:8080/"
        },
        "id": "DgI4LMiapFz-",
        "outputId": "b8595c82-54b1-45a4-d357-c13fa4ebde40"
      },
      "execution_count": null,
      "outputs": [
        {
          "output_type": "stream",
          "name": "stdout",
          "text": [
            "20\n"
          ]
        }
      ]
    },
    {
      "cell_type": "code",
      "source": [
        "Estado_civil = input(\"Ingrese su estado civil: \")\n",
        "print(Estado_civil)"
      ],
      "metadata": {
        "colab": {
          "base_uri": "https://localhost:8080/"
        },
        "id": "DQmQVeY3pPpo",
        "outputId": "cd9f335a-8131-4a95-a898-d8f8170938f1"
      },
      "execution_count": null,
      "outputs": [
        {
          "output_type": "stream",
          "name": "stdout",
          "text": [
            "Ingrese su estado civil: asd\n",
            "asd\n"
          ]
        }
      ]
    },
    {
      "cell_type": "code",
      "source": [
        "No_hijos = input(\"Digite la cantidad de hijos: \")\n",
        "print(No_hijos)"
      ],
      "metadata": {
        "colab": {
          "base_uri": "https://localhost:8080/"
        },
        "id": "1D5684P8ptP-",
        "outputId": "2eaf0ab7-b7c0-42fa-8fff-8df576939fb7"
      },
      "execution_count": null,
      "outputs": [
        {
          "output_type": "stream",
          "name": "stdout",
          "text": [
            "Digite la cantidad de hijos: 0\n",
            "0\n"
          ]
        }
      ]
    },
    {
      "cell_type": "code",
      "source": [
        "Estatura = \"1,89 cm\"\n",
        "print(Estatura)"
      ],
      "metadata": {
        "colab": {
          "base_uri": "https://localhost:8080/"
        },
        "id": "smAuDbGjqLT2",
        "outputId": "1a687af6-9da0-4bad-a7fb-8f2fb8ab0c6d"
      },
      "execution_count": null,
      "outputs": [
        {
          "output_type": "stream",
          "name": "stdout",
          "text": [
            "1,89 cm\n"
          ]
        }
      ]
    },
    {
      "cell_type": "code",
      "source": [
        "Fecha_contratacion = \"06/10/2022\"\n",
        "print(Fecha_contratacion)"
      ],
      "metadata": {
        "colab": {
          "base_uri": "https://localhost:8080/"
        },
        "id": "Dyc_vNpPrOZN",
        "outputId": "9ebf97ae-88a8-4d85-ee1a-a3b18acf6248"
      },
      "execution_count": null,
      "outputs": [
        {
          "output_type": "stream",
          "name": "stdout",
          "text": [
            "06/10/2023\n"
          ]
        }
      ]
    },
    {
      "cell_type": "code",
      "source": [
        "Sueldo_basico = \"2´800,000\"\n",
        "print(Sueldo_basico)"
      ],
      "metadata": {
        "colab": {
          "base_uri": "https://localhost:8080/"
        },
        "id": "Si_rMM79rpSQ",
        "outputId": "c87dfc1d-8f23-4a12-b0a1-919761f392da"
      },
      "execution_count": null,
      "outputs": [
        {
          "output_type": "stream",
          "name": "stdout",
          "text": [
            "2´800,000\n"
          ]
        }
      ]
    },
    {
      "cell_type": "code",
      "source": [
        "Dias_laborados = 215\n",
        "print(Dias_laborados)"
      ],
      "metadata": {
        "colab": {
          "base_uri": "https://localhost:8080/"
        },
        "id": "MwaXi7p0sn5I",
        "outputId": "a1db6230-ea80-48b8-8fe2-e186fa17cc3c"
      },
      "execution_count": null,
      "outputs": [
        {
          "output_type": "stream",
          "name": "stdout",
          "text": [
            "215\n"
          ]
        }
      ]
    },
    {
      "cell_type": "markdown",
      "source": [
        "## **SENTENCIAS CONDICIONALES**"
      ],
      "metadata": {
        "id": "klrpTNZvHAEj"
      }
    },
    {
      "cell_type": "markdown",
      "source": [
        "ejercicio 1"
      ],
      "metadata": {
        "id": "WR7gPFq-Orqn"
      }
    },
    {
      "cell_type": "code",
      "source": [
        "edad = int(input(\"Digite la edad del empleado \"))\n",
        "sueldo_básico = float(input(\"Digite el sueldo básico del empleado \"))\n",
        "\n",
        "if edad > 55:\n",
        "  bono = sueldo_básico * 0.05\n",
        "  total = sueldo_básico + bono\n",
        "  print(f\"El valor del bono es de ${bono:,.0f} para un total de ${total:,.0f}\") \n",
        "else:\n",
        "  print(\"No aplica el bono\")"
      ],
      "metadata": {
        "colab": {
          "base_uri": "https://localhost:8080/"
        },
        "id": "3jkp-qmkHHeZ",
        "outputId": "7090f113-33e1-41cb-9767-b384c53563f5"
      },
      "execution_count": null,
      "outputs": [
        {
          "output_type": "stream",
          "name": "stdout",
          "text": [
            "Digite la edad del empleado 43\n",
            "Digite el sueldo básico del empleado 1588890\n",
            "No aplica el bono\n"
          ]
        }
      ]
    },
    {
      "cell_type": "markdown",
      "source": [
        "ejercicio 2"
      ],
      "metadata": {
        "id": "Iz-gJovdOv5Z"
      }
    },
    {
      "cell_type": "code",
      "source": [
        "estado_civil = str(input(\"¿El empleado es casado? si/no \"))\n",
        "hijos = str(input(\"¿El empeado tiene hijos? si/no \"))\n",
        "\n",
        "if estado_civil == \"si\" and hijos == \"si\":\n",
        "  print(\"Se le otorgará un paseo al empleado cada diciembre\")\n",
        "\n",
        "else:\n",
        "  print(\"No accede al beneficio\")"
      ],
      "metadata": {
        "colab": {
          "base_uri": "https://localhost:8080/"
        },
        "id": "Fjtb1CRYOz3Y",
        "outputId": "a097f09e-aa96-44d6-9897-c3b6f782f846"
      },
      "execution_count": null,
      "outputs": [
        {
          "output_type": "stream",
          "name": "stdout",
          "text": [
            "¿El empleado es casado? si/no no\n",
            "¿El empeado tiene hijos? si/no si\n",
            "No accede al beneficio\n"
          ]
        }
      ]
    },
    {
      "cell_type": "markdown",
      "source": [
        "ejercicio 3"
      ],
      "metadata": {
        "id": "_tKHSThfSUHO"
      }
    },
    {
      "cell_type": "code",
      "source": [
        "sueldo_basico = float (input(\"Digite el sueldo del empleado: \"))\n",
        "\n",
        "if sueldo_basico >= 1000000 and sueldo_basico <= 1500000:\n",
        "  comision1 = sueldo_básico * 0.02\n",
        "  print(f\"La comisión es de ${comision1:,.0f}\")\n",
        "\n",
        "elif sueldo_basico >= 1500001 and sueldo_basico <= 2000000:\n",
        "  comision2 = sueldo_basico * 0.05\n",
        "  print(f\"La comisión es de ${comision2:,.0f}\")\n",
        "\n",
        "else:\n",
        "  print(\"No tiene comisión\")  \n"
      ],
      "metadata": {
        "colab": {
          "base_uri": "https://localhost:8080/"
        },
        "id": "jF6i2-XeSW7g",
        "outputId": "ff26f176-80ac-4c48-adc1-68a6d85f03e9"
      },
      "execution_count": null,
      "outputs": [
        {
          "output_type": "stream",
          "name": "stdout",
          "text": [
            "Digite el sueldo del empleado: 1750000\n",
            "La comisión es de $87,500\n"
          ]
        }
      ]
    },
    {
      "cell_type": "markdown",
      "source": [
        "ejercicio 4"
      ],
      "metadata": {
        "id": "cZhTR50KbMk8"
      }
    },
    {
      "cell_type": "code",
      "source": [
        "dias_laborados = int (input(\"Digite la cantidad de días laborados en el mes: \"))\n",
        "sueldo = float (input(\"Digite el sueldo del empleado: \"))\n",
        "\n",
        "if dias_laborados > 20 and sueldo < 1000000:\n",
        "  print(\"Tiene derecho a bono de alimentación\")\n",
        "\n",
        "else:\n",
        "  print(\"No tiene derecho a bono de alimentación\")  "
      ],
      "metadata": {
        "colab": {
          "base_uri": "https://localhost:8080/"
        },
        "id": "fCIEpjtnbPEW",
        "outputId": "bddf8efc-512c-4792-a8e6-ca8f8970a21c"
      },
      "execution_count": null,
      "outputs": [
        {
          "output_type": "stream",
          "name": "stdout",
          "text": [
            "Digite la cantidad de días laborados en el mes: 28\n",
            "Digite el sueldo del empleado: 1250000\n",
            "No tiene derecho a bono de alimentación\n"
          ]
        }
      ]
    },
    {
      "cell_type": "markdown",
      "source": [
        "## **FUNCIONES**"
      ],
      "metadata": {
        "id": "FK6BQgIBh6UQ"
      }
    },
    {
      "cell_type": "code",
      "source": [
        "def identificacion(ident, doc): \n",
        "  print(f\"Su tipo de documento es {tipo} y su número de documento es:{No_identificacion} \")\n",
        "\n",
        "tipo_doc = input(\"Digite el tipo de documento: \")\n",
        "No_identificacion = input(\"Digite el número del documento: \")\n",
        "\n",
        "identificacion(No_identificacion, tipo_doc)"
      ],
      "metadata": {
        "colab": {
          "base_uri": "https://localhost:8080/"
        },
        "id": "0jWqk7nnkAtR",
        "outputId": "1e042526-b31a-4b34-f76d-a49be3e3d3f4"
      },
      "execution_count": null,
      "outputs": [
        {
          "output_type": "stream",
          "name": "stdout",
          "text": [
            "Digite el tipo de documento: ce\n",
            "Digite el número del documento: 12345\n",
            "Su tipo de documento es ce y su número de documento es:12345 \n"
          ]
        }
      ]
    },
    {
      "cell_type": "code",
      "source": [
        "def direccion(dir):\n",
        "  print(f\"Su dirección es:{direccion1} \")\n",
        "\n",
        "direccion1 = input(\"Digite su direccion: \")\n",
        "direccion(direccion1)"
      ],
      "metadata": {
        "colab": {
          "base_uri": "https://localhost:8080/"
        },
        "id": "63FvaOk6iA--",
        "outputId": "0b9e0280-80ff-4a19-8c16-d3f84cf1615d"
      },
      "execution_count": null,
      "outputs": [
        {
          "output_type": "stream",
          "name": "stdout",
          "text": [
            "Digite su direccion: calle 52 75 67\n",
            "Su dirección es:calle 52 75 67 \n"
          ]
        }
      ]
    }
  ]
}