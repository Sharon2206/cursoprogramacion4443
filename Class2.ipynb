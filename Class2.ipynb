{
  "nbformat": 4,
  "nbformat_minor": 0,
  "metadata": {
    "colab": {
      "provenance": []
    },
    "kernelspec": {
      "name": "python3",
      "display_name": "Python 3"
    },
    "language_info": {
      "name": "python"
    }
  },
  "cells": [
    {
      "cell_type": "markdown",
      "source": [
        "### **OPERADORES MATEMÁTICOS**"
      ],
      "metadata": {
        "id": "VSjAs4Q4AN1M"
      }
    },
    {
      "cell_type": "markdown",
      "source": [
        "ejercicio 1"
      ],
      "metadata": {
        "id": "EBVCId9QDHpC"
      }
    },
    {
      "cell_type": "code",
      "source": [
        "venta1 = float(input(\"¿Cuál fue el valor de la compra 1?\" ))\n",
        "venta2 = float(input(\"¿Cuál fue el valor de la compra 2?\" ))\n",
        "venta3 = float(input(\"¿Cuál fue el valor de la compra 3?\" ))\n",
        "\n",
        "total_ventas = round(venta1 + venta2 + venta3)\n",
        "\n",
        "valor_comision = total_ventas * 0.10\n",
        "\n",
        "sueldo = 1160000 + valor_comision\n",
        "\n",
        "print(\"El salario correspondiente al mes es {:,.0f}\".format(sueldo))"
      ],
      "metadata": {
        "colab": {
          "base_uri": "https://localhost:8080/"
        },
        "id": "DXCORAghAWdg",
        "outputId": "c38cfe6e-2a73-4d91-8685-acfb5e35ea6d"
      },
      "execution_count": null,
      "outputs": [
        {
          "output_type": "stream",
          "name": "stdout",
          "text": [
            "¿Cuál fue el valor de la compra 1?50000\n",
            "¿Cuál fue el valor de la compra 2?37253\n",
            "¿Cuál fue el valor de la compra 3?143900\n",
            "El salario correspondiente al mes es 1,183,115\n"
          ]
        }
      ]
    },
    {
      "cell_type": "markdown",
      "source": [
        "ejercicio 2"
      ],
      "metadata": {
        "id": "aZ-XkREbKUdT"
      }
    },
    {
      "cell_type": "code",
      "source": [
        "valor_compra = float(input(\"¿Cuál fue el valor total de la compra?\"))\n",
        "descuento = valor_compra * 0.15\n",
        "total = valor_compra - descuento\n",
        "print(\"El total a pagar de su compra es de {:,.0f}\".format(total))"
      ],
      "metadata": {
        "colab": {
          "base_uri": "https://localhost:8080/"
        },
        "id": "XvvW3lwEKYOI",
        "outputId": "fbe077e4-2d58-44f4-8c5e-e09581e70967"
      },
      "execution_count": null,
      "outputs": [
        {
          "output_type": "stream",
          "name": "stdout",
          "text": [
            "¿Cuál fue el valor total de la compra?56700\n",
            "El total a pagar de su compra es de 48,195\n"
          ]
        }
      ]
    },
    {
      "cell_type": "markdown",
      "source": [
        "ejercicio 3"
      ],
      "metadata": {
        "id": "OjQQbDbsMtcp"
      }
    },
    {
      "cell_type": "code",
      "source": [
        "nota1 = float(input(\"Ingrese su nota 1:\"))\n",
        "nota2 = float(input(\"Ingrese su nota 2:\"))\n",
        "nota3 = float(input(\"Ingrese su nota 3:\"))\n",
        "\n",
        "nota_final = round((nota1 + nota2 + nota3 ) /3, 2)\n",
        "\n",
        "print(\"Su nota final es: {} \".format(nota_final))"
      ],
      "metadata": {
        "colab": {
          "base_uri": "https://localhost:8080/"
        },
        "id": "7stPgxXjMwQR",
        "outputId": "33a52aab-8a19-4eb0-e344-8aabc60bc318"
      },
      "execution_count": null,
      "outputs": [
        {
          "output_type": "stream",
          "name": "stdout",
          "text": [
            "Ingrese su nota 1:4.5\n",
            "Ingrese su nota 2:3.2\n",
            "Ingrese su nota 3:1.7\n",
            "Su nota final es: 3.13 \n"
          ]
        }
      ]
    },
    {
      "cell_type": "markdown",
      "source": [
        "ejercicio 4"
      ],
      "metadata": {
        "id": "3B8k-BYFRLJw"
      }
    },
    {
      "cell_type": "code",
      "source": [
        "mujeres = int(input(\"Cantidad de mujeres: \"))\n",
        "hombres = int(input(\"Cantidad de hombres: \"))\n",
        "\n",
        "total = mujeres + hombres\n",
        "\n",
        "porc_mujeres = ((mujeres / total) * 100)\n",
        "porc_hombres = ((hombres / total) * 100)\n",
        "\n",
        "print(\"El porcentaje de mujeres es del {:,.0f}% y el porcentaje de hombres es del {:,.0f}%\".format(porc_mujeres, porc_hombres))"
      ],
      "metadata": {
        "colab": {
          "base_uri": "https://localhost:8080/"
        },
        "id": "j9dHkXPKRO7P",
        "outputId": "54a0f897-90ba-4345-923d-ab3229fa685c"
      },
      "execution_count": null,
      "outputs": [
        {
          "output_type": "stream",
          "name": "stdout",
          "text": [
            "Cantidad de mujeres: 53\n",
            "Cantidad de hombres: 97\n",
            "El porcentaje de mujeres es del 35% y el porcentaje de hombres es del 65%\n"
          ]
        }
      ]
    }
  ]
}