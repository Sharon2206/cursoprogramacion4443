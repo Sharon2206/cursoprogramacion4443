{
  "cells": [
    {
      "cell_type": "markdown",
      "metadata": {
        "id": "44Lsf9TFnDo8"
      },
      "source": [
        "## **CICLO FOR - WHILE**"
      ]
    },
    {
      "cell_type": "markdown",
      "metadata": {
        "id": "ayCCoSWmpMkk"
      },
      "source": [
        "Se necesita un sistema que despliega una tabla de\n",
        "multiplicar de un número dado por el usuario."
      ]
    },
    {
      "cell_type": "code",
      "execution_count": null,
      "metadata": {
        "colab": {
          "base_uri": "https://localhost:8080/"
        },
        "id": "uhc66lQZm9UR",
        "outputId": "b6c24b4d-2ee5-4992-f272-2a6b82b4325d"
      },
      "outputs": [
        {
          "name": "stdout",
          "output_type": "stream",
          "text": [
            "Digite el número de la tabla de multiplicar que desea visualizar: 3\n",
            "0 X 3 = 0\n",
            "1 X 3 = 3\n",
            "2 X 3 = 6\n",
            "3 X 3 = 9\n",
            "4 X 3 = 12\n",
            "5 X 3 = 15\n",
            "6 X 3 = 18\n",
            "7 X 3 = 21\n",
            "8 X 3 = 24\n",
            "9 X 3 = 27\n",
            "10 X 3 = 30\n"
          ]
        }
      ],
      "source": [
        "numero = int(input(\"Digite el número de la tabla de multiplicar que desea visualizar: \"))\n",
        "\n",
        "for a in range(11):\n",
        "  print(a, \"X\", numero, \"=\", a * numero)  "
      ]
    },
    {
      "cell_type": "markdown",
      "metadata": {
        "id": "gq3vff2hpToC"
      },
      "source": [
        "Se necesita un sistema que pida un sueldo de un\n",
        "trabajador, si el sueldo es mayor a 655000, no tedrá\n",
        "ninguna bonificación, pero si es menor tiene bonificación\n",
        "del 4%. Al final se desea saber el total del sueldo con\n",
        "o sin bonificación."
      ]
    },
    {
      "cell_type": "code",
      "execution_count": null,
      "metadata": {
        "colab": {
          "base_uri": "https://localhost:8080/"
        },
        "id": "xEHFnSiNpX2a",
        "outputId": "c21c3c82-8220-44b1-e5ba-8e719546c7af"
      },
      "outputs": [
        {
          "name": "stdout",
          "output_type": "stream",
          "text": [
            "Digite el sueldo del trabajador: 657000\n",
            "No aplica bonificación\n",
            "Digite el sueldo del trabajador: 78900\n",
            "El valor de la bonificación es de $3,156 para un total de $82,056\n",
            "¿Desea validar la bonificación de otro trabajador?si\n",
            "Digite el sueldo del trabajador: 68790\n",
            "El valor de la bonificación es de $2,752 para un total de $71,542\n",
            "¿Desea validar la bonificación de otro trabajador?no\n"
          ]
        }
      ],
      "source": [
        "respuesta = \"si\"\n",
        "while respuesta == \"si\" or respuesta == \"SI\" or respuesta == \"Si\" or respuesta == \"Sí\":\n",
        "  sueldo = float(input(\"Digite el sueldo del trabajador: \"))\n",
        "\n",
        "  if sueldo >655000:\n",
        "    print(f\"No aplica bonificación\")\n",
        "\n",
        "  else:\n",
        "    bonificacion = sueldo * 0.04\n",
        "    total = sueldo + bonificacion\n",
        "    print(f\"El valor de la bonificación es de ${bonificacion:,.0f} para un total de ${total:,.0f}\")\n",
        "    respuesta = input(\"¿Desea validar la bonificación de otro trabajador?\")\n",
        "\n",
        "\n"
      ]
    },
    {
      "cell_type": "markdown",
      "metadata": {
        "id": "-aOOpTcFtlCs"
      },
      "source": [
        "Un maestro necesita un sistema para capturar las\n",
        "calificaciones de 5 parciales de sus alumnos, después\n",
        "recapturarlas necesita que se despliegue el promedio,\n",
        "cuando ya no quiera capturar más alumnos, necesita que\n",
        "se despliegue el promedio general de todos los alumnos\n",
        "capturados."
      ]
    },
    {
      "cell_type": "code",
      "execution_count": null,
      "metadata": {
        "colab": {
          "background_save": true,
          "base_uri": "https://localhost:8080/"
        },
        "id": "xhV4kgUESld0",
        "outputId": "f79ac7c0-b785-4d4e-9b01-98e629c00a54"
      },
      "outputs": [
        {
          "name": "stdout",
          "output_type": "stream",
          "text": [
            "El promedio es de 3.22\n"
          ]
        }
      ],
      "source": [
        "respuesta = \"si\"\n",
        "while respuesta == \"si\" or respuesta == \"SI\" or respuesta == \"Si\" or respuesta == \"Sí\":\n",
        "  parcial1 = float(input(\"Digite la nota del parcial 1:\"))\n",
        "  parcial2 = float(input(\"Digite la nota del parcial 2:\"))\n",
        "  parcial3 = float(input(\"Digite la nota del parcial 3:\"))\n",
        "  parcial4 = float(input(\"Digite la nota del parcial 4:\"))\n",
        "  parcial5 = float(input(\"Digite la nota del parcial 5:\"))\n",
        "  promedio = round((parcial1 + parcial2 + parcial3 + parcial4 + parcial5)/5, 2)\n",
        "  print(f\"El promedio es de {promedio}\")\n",
        "  resp = input(\"¿Desea calcular otras calificaciones?\")"
      ]
    },
    {
      "cell_type": "markdown",
      "metadata": {
        "id": "sMea3rBFUkc5"
      },
      "source": [
        "Crear un bucle que cuente todos los números pares hasta\n",
        "el 100 ciclo for"
      ]
    },
    {
      "cell_type": "code",
      "execution_count": null,
      "metadata": {
        "colab": {
          "base_uri": "https://localhost:8080/"
        },
        "id": "xmGsK4zRUmMn",
        "outputId": "40ca1d14-25a9-45d7-9619-37db5e2c1b72"
      },
      "outputs": [
        {
          "name": "stdout",
          "output_type": "stream",
          "text": [
            "0\n",
            "2\n",
            "4\n",
            "6\n",
            "8\n",
            "10\n",
            "12\n",
            "14\n",
            "16\n",
            "18\n",
            "20\n",
            "22\n",
            "24\n",
            "26\n",
            "28\n",
            "30\n",
            "32\n",
            "34\n",
            "36\n",
            "38\n",
            "40\n",
            "42\n",
            "44\n",
            "46\n",
            "48\n",
            "50\n",
            "52\n",
            "54\n",
            "56\n",
            "58\n",
            "60\n",
            "62\n",
            "64\n",
            "66\n",
            "68\n",
            "70\n",
            "72\n",
            "74\n",
            "76\n",
            "78\n",
            "80\n",
            "82\n",
            "84\n",
            "86\n",
            "88\n",
            "90\n",
            "92\n",
            "94\n",
            "96\n",
            "98\n",
            "100\n"
          ]
        }
      ],
      "source": [
        "for i in range(0,101,2):\n",
        "  print(i)"
      ]
    },
    {
      "cell_type": "markdown",
      "metadata": {
        "id": "JC0RFWXKVYJA"
      },
      "source": [
        "Haz una tabla de multiplicar utilizando el ciclo for\n",
        "ciclo for"
      ]
    },
    {
      "cell_type": "code",
      "execution_count": null,
      "metadata": {
        "colab": {
          "base_uri": "https://localhost:8080/"
        },
        "id": "UKL5IJpgVdj4",
        "outputId": "65adb731-8bd9-430b-d36e-6fd53272047d"
      },
      "outputs": [
        {
          "name": "stdout",
          "output_type": "stream",
          "text": [
            "Digite el número de la tabla de multiplicar que desea visualizar: 12\n",
            "0 X 12 = 0\n",
            "1 X 12 = 12\n",
            "2 X 12 = 24\n",
            "3 X 12 = 36\n",
            "4 X 12 = 48\n",
            "5 X 12 = 60\n",
            "6 X 12 = 72\n",
            "7 X 12 = 84\n",
            "8 X 12 = 96\n",
            "9 X 12 = 108\n",
            "10 X 12 = 120\n"
          ]
        }
      ],
      "source": [
        "numero = int(input(\"Digite el número de la tabla de multiplicar que desea visualizar: \"))\n",
        "\n",
        "for a in range(11):\n",
        "  print(a, \"X\", numero, \"=\", a * numero)  "
      ]
    },
    {
      "cell_type": "markdown",
      "metadata": {
        "id": "QWtlb8EhVySj"
      },
      "source": [
        "Escribir un programa que pregunte al usuario su edad y\n",
        "muestre por pantalla todos los años que ha cumplido\n",
        "(desde 1 hasta su edad). ciclo for"
      ]
    },
    {
      "cell_type": "code",
      "execution_count": null,
      "metadata": {
        "colab": {
          "base_uri": "https://localhost:8080/"
        },
        "id": "2Q9i-qbEV3Vq",
        "outputId": "7ed9d584-b02f-47e5-96a3-3dc580aa699e"
      },
      "outputs": [
        {
          "name": "stdout",
          "output_type": "stream",
          "text": [
            "Ingrese su edad: 14\n",
            "Años cumplidos: 1\n",
            "Años cumplidos: 2\n",
            "Años cumplidos: 3\n",
            "Años cumplidos: 4\n",
            "Años cumplidos: 5\n",
            "Años cumplidos: 6\n",
            "Años cumplidos: 7\n",
            "Años cumplidos: 8\n",
            "Años cumplidos: 9\n",
            "Años cumplidos: 10\n",
            "Años cumplidos: 11\n",
            "Años cumplidos: 12\n",
            "Años cumplidos: 13\n",
            "Años cumplidos: 14\n"
          ]
        }
      ],
      "source": [
        "edad = int(input(\"Ingrese su edad: \"))\n",
        "\n",
        "for i in range(1, edad + 1):\n",
        "    print(f\"Años cumplidos: {i}\")\n"
      ]
    },
    {
      "cell_type": "markdown",
      "metadata": {
        "id": "0BMrV6b6aPDE"
      },
      "source": [
        "## **FUNCIONES**"
      ]
    },
    {
      "cell_type": "code",
      "execution_count": null,
      "metadata": {
        "id": "BEoxkkwYaXos"
      },
      "outputs": [],
      "source": [
        "def suma (nota1, nota2, nota3, nota4, nota5): \n",
        "   respuesta = nota1 + nota2 + nota3 + nota4 + nota5\n",
        "   return respuesta \n",
        "nota1 = float(input(\"Digite la calificaicón 1: \"))\n",
        "nota2 = float(input(\"Digite la calificaicón 2: \"))\n",
        "nota3 = float(input(\"Digite la calificaicón 3: \"))\n",
        "nota4 = float(input(\"Digite la calificaicón 4: \"))\n",
        "nota5 = float(input(\"Digite la calificaicón 5: \"))\n",
        "Promedio = round ((nota1 + nota2 + nota3 + nota4 + nota5 ) /5,2)"
      ]
    },
    {
      "cell_type": "code",
      "execution_count": null,
      "metadata": {
        "colab": {
          "base_uri": "https://localhost:8080/"
        },
        "id": "Wmc-XUeybTa1",
        "outputId": "8f3d01de-a0c7-4955-ca5e-671075bdeada"
      },
      "outputs": [
        {
          "name": "stdout",
          "output_type": "stream",
          "text": [
            "Ingrese su edad: 14\n"
          ]
        }
      ],
      "source": [
        "edad = int(input(\"Ingrese su edad: \"))"
      ]
    },
    {
      "cell_type": "code",
      "execution_count": null,
      "metadata": {
        "colab": {
          "base_uri": "https://localhost:8080/"
        },
        "id": "zkzrVc_6cYGH",
        "outputId": "b0282236-5c4d-4b3c-8255-09697cb97c31"
      },
      "outputs": [
        {
          "name": "stdout",
          "output_type": "stream",
          "text": [
            "Ingrese su edad: 13\n",
            "Años cumplidos: 1\n",
            "Años cumplidos: 2\n",
            "Años cumplidos: 3\n",
            "Años cumplidos: 4\n",
            "Años cumplidos: 5\n",
            "Años cumplidos: 6\n",
            "Años cumplidos: 7\n",
            "Años cumplidos: 8\n",
            "Años cumplidos: 9\n",
            "Años cumplidos: 10\n",
            "Años cumplidos: 11\n",
            "Años cumplidos: 12\n",
            "Años cumplidos: 13\n"
          ]
        }
      ],
      "source": [
        "def anos_cumplidos(edad):\n",
        "    for i in range(1, edad + 1):\n",
        "        print(f\"Años cumplidos: {i}\")\n",
        "\n",
        "edad = int(input(\"Ingrese su edad: \"))\n",
        "\n",
        "anos_cumplidos(edad)\n"
      ]
    }
  ],
  "metadata": {
    "colab": {
      "provenance": []
    },
    "kernelspec": {
      "display_name": "Python 3",
      "name": "python3"
    },
    "language_info": {
      "name": "python"
    }
  },
  "nbformat": 4,
  "nbformat_minor": 0
}